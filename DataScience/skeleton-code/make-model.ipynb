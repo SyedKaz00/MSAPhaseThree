{
 "cells": [
  {
   "cell_type": "markdown",
   "metadata": {},
   "source": [
    "# Phase 3 Data Science Training Notebook"
   ]
  },
  {
   "cell_type": "code",
   "execution_count": 20,
   "metadata": {},
   "outputs": [],
   "source": [
    "import pandas as pd\n",
    "import numpy as np"
   ]
  },
  {
   "cell_type": "markdown",
   "metadata": {},
   "source": [
    "## Exploratory Data Analysis"
   ]
  },
  {
   "cell_type": "code",
   "execution_count": 21,
   "metadata": {},
   "outputs": [],
   "source": [
    "# Assume tar.gz file to be extracted at project directory.\n",
    "def unpickle(file):\n",
    "    import pickle\n",
    "    with open(file, 'rb') as fo:\n",
    "        dict = pickle.load(fo, encoding='bytes')\n",
    "    return dict"
   ]
  },
  {
   "cell_type": "markdown",
   "metadata": {},
   "source": [
    "# Data Processing"
   ]
  },
  {
   "cell_type": "code",
   "execution_count": 22,
   "metadata": {},
   "outputs": [],
   "source": [
    "train_x = np.random.randint(0,255,size=(10000,3,32,32))\n",
    "train_y = np.random.randint(0,255,size=(10000))\n",
    "\n",
    "test_x = np.random.randint(0,255,size=(1000,3,32,32))\n",
    "test_y = np.random.randint(0,255,size=(1000))"
   ]
  },
  {
   "cell_type": "markdown",
   "metadata": {},
   "source": [
    "# Data Modelling"
   ]
  },
  {
   "cell_type": "code",
   "execution_count": 23,
   "metadata": {},
   "outputs": [],
   "source": [
    "import tensorflow as tf\n",
    "from tensorflow.keras import Input, layers, Sequential, optimizers, losses, callbacks\n",
    "from datetime import datetime"
   ]
  },
  {
   "cell_type": "code",
   "execution_count": 24,
   "metadata": {},
   "outputs": [],
   "source": [
    "def generateModel():\n",
    "    \"\"\"\n",
    "    Make a Keras Sequential Model.\n",
    "    Feel free to change the layout of the layers.\n",
    "\n",
    "    Read more about keras here: https://keras.io/api/\n",
    "    Tensorflow setup adapted here: https://www.tensorflow.org/tutorials/quickstart/beginner\n",
    "    \"\"\"\n",
    "    model = Sequential(name=\"Image_Recognition_Model\")\n",
    "    model.add(Input(shape=(3,32,32))) # Input layer.\n",
    "\n",
    "    model.add(layers.Rescaling(scale=1./255, name=\"Normaliser\")) # Example pre-processing layer.\n",
    "\n",
    "    model.add(layers.Dense(40, activation=\"relu\")) # Example Hidden Layer 1. Has 40 Nodes.\n",
    "    model.add(layers.Dense(25, activation=\"sigmoid\")) # Example Hidden Layer 2. Has 25 Nodes.\n",
    "    model.add(layers.Dense(15, activation=\"tanh\")) # Example Hidden Layer 3. Has 15 Nodes.\n",
    "\n",
    "    model.add(layers.Dense(1, activation=\"sigmoid\", name=\"Output_Probability\")) # Output layer.\n",
    "\n",
    "    model.compile(\n",
    "        optimizer=optimizers.SGD(learning_rate=0.01),\n",
    "        loss=losses.MeanAbsoluteError(),\n",
    "        metrics=['accuracy']\n",
    "    )\n",
    "\n",
    "    return model"
   ]
  },
  {
   "cell_type": "code",
   "execution_count": 29,
   "metadata": {},
   "outputs": [
    {
     "data": {
      "text/plain": [
       "<keras.callbacks.History at 0x1a671d25f10>"
      ]
     },
     "execution_count": 29,
     "metadata": {},
     "output_type": "execute_result"
    }
   ],
   "source": [
    "import os\n",
    "\n",
    "\n",
    "model = generateModel()\n",
    "\n",
    "#log_diro = \"output\\\\logs\\\\\" + datetime.now().strftime(\"%Y-%m-%d-%H:%M:%S\")\n",
    "#print(log_diro)\n",
    "log_dir = os.path.join(\n",
    "    \"output\",\n",
    "    \"logs\",\n",
    "    datetime.now().strftime(\"%Y%m%d-%H%M%S\"),\n",
    ")\n",
    "#log_dir = os.path.normpath(log_diro)\n",
    "#tboard_log = os.path.join(\"output\",\"logs\",datetime.now().strftime(\"%Y-%m-%d-%H:%M:%S\"))\n",
    "\n",
    "# Callbacks for QoL.\n",
    "\n",
    "tensorboard_callback = callbacks.TensorBoard(log_dir=log_dir, histogram_freq=1)\n",
    "earlystop_callback = callbacks.EarlyStopping(monitor='val_loss', patience=25, restore_best_weights=True)\n",
    "\n",
    "model.fit(train_x, train_y,\n",
    "    validation_data=(test_x, test_y),\n",
    "    epochs=50000,\n",
    "    batch_size=500, # Set this to a lower number if your computer spec is bad.\n",
    "    callbacks=[tensorboard_callback, earlystop_callback],\n",
    "    verbose=0 # Uncomment this line to reduce the printing on console.\n",
    ")"
   ]
  },
  {
   "cell_type": "code",
   "execution_count": 30,
   "metadata": {},
   "outputs": [
    {
     "name": "stdout",
     "output_type": "stream",
     "text": [
      "INFO:tensorflow:Assets written to: output\\my_model\\assets\n"
     ]
    }
   ],
   "source": [
    "model_dir = os.path.join(\n",
    "    \"output\",\n",
    "    \"my_model\",\n",
    ")\n",
    "model.save('output\\\\my_model')"
   ]
  }
 ],
 "metadata": {
  "kernelspec": {
   "display_name": "Python 3.9.13 ('tf')",
   "language": "python",
   "name": "python3"
  },
  "language_info": {
   "codemirror_mode": {
    "name": "ipython",
    "version": 3
   },
   "file_extension": ".py",
   "mimetype": "text/x-python",
   "name": "python",
   "nbconvert_exporter": "python",
   "pygments_lexer": "ipython3",
   "version": "3.9.13"
  },
  "orig_nbformat": 4,
  "vscode": {
   "interpreter": {
    "hash": "c7c0e843705531c78b23726531389a52cc758377181b90b36c808180fa922408"
   }
  }
 },
 "nbformat": 4,
 "nbformat_minor": 2
}
